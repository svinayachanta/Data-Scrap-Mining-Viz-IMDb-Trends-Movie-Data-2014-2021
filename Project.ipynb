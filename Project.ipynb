{
 "cells": [
  {
   "cell_type": "code",
   "execution_count": null,
   "metadata": {},
   "outputs": [],
   "source": [
    "#!pip install bs4\n",
    "import bs4\n",
    "import requests\n",
    "import sys\n",
    "import pandas as pd\n",
    "import re\n",
    "from matplotlib import pyplot as plt\n",
    "import seaborn as sns\n",
    "import time\n",
    "import random as ran\n",
    "from scipy import stats\n",
    "import numpy as np\n",
    "from scipy.stats import t\n",
    "from numpy.polynomial.polynomial import polyfit"
   ]
  },
  {
   "cell_type": "markdown",
   "metadata": {},
   "source": [
    "### Scraping Movies Data from IMDb Website using Beautiful Soup"
   ]
  },
  {
   "cell_type": "code",
   "execution_count": null,
   "metadata": {},
   "outputs": [],
   "source": [
    "def extractcolumns(col,b):   \n",
    "    data_d = {}\n",
    "    name = col.find('a')\n",
    "    year = col.find('span',{'class': 'lister-item-year'})\n",
    "    rating = col.find('div',{'class':'inline-block ratings-imdb-rating'})\n",
    "    m_score = col.find('span',{'class':'metascore'})\n",
    "    votes = col.find('span',{'name':'nv'})\n",
    "    gross = cols[b].findAll('span',{'name':'nv'})[-1]\n",
    "    genre = cols[b].find('span', class_='genre')\n",
    "    director = col.find_all('p')[2]    \n",
    "    data_d['Movie_Name'] = name.get_text() if name else None\n",
    "    if year.contents:\n",
    "        data_d['Relese_Year'] = str(year.contents[0][1:-1].replace('I) (','')).strip() if year else None\n",
    "    data_d['Rating_Score'] = float(rating.get('data-value')) if rating else None\n",
    "    data_d['Meta_Score'] = float(m_score.contents[0].strip()) if m_score else None\n",
    "    data_d['Total_Votes'] = int(votes.get('data-value').replace(\",\",\"\")) if votes else None\n",
    "    data_d['Gross_USA'] = int(gross.get('data-value').replace(\",\",\"\")) if gross else None\n",
    "    data_d['Movie_Genre'] = str(genre.get_text().replace('\\n','').replace('\"','').strip()) if genre else None\n",
    "    data_d['Director_Star'] = director.text.replace('\\n','').replace('    ','') if director else None    \n",
    "    return data_d\n",
    "\n",
    "\n",
    "#Provide the Imdb Website from which data needs to be scraped in 'movie_url' and movies count required in 'target'. Years in the movie_url need to be changed according to the data\n",
    "\n",
    "movie_dataset = [] \n",
    "movie_url = 'https://www.imdb.com/search/title/?title_type=feature&release_date=2016-01-01,2016-12-31&sort=boxoffice_gross_us,desc&start='\n",
    "#Provide the \n",
    "target = 200\n",
    "start = 0\n",
    "end = 0 \n",
    "count = 1 \n",
    "tcount = target - end  \n",
    "while tcount > 0:\n",
    "    url = movie_url + str(count)\n",
    "    source = requests.get(url).text\n",
    "    soup = bs4.BeautifulSoup(source,'html.parser')       \n",
    "    cols = soup.findAll('div',{'class':'lister-item-content'}) \n",
    "    movie_dataset.extend([extractcolumns(cols[b],b) for b in range(len(cols))])          \n",
    "    start = int(soup.find(\"div\", {\"class\":\"nav\"}).find(\"div\", {\"class\": \"desc\"}).contents[1].get_text().split(\"-\")[0].replace(\",\",\"\"))\n",
    "    end = int(soup.find(\"div\", {\"class\":\"nav\"}).find(\"div\", {\"class\": \"desc\"}).contents[1].get_text().split(\"-\")[1].split(\" \")[0].replace(\",\",  \"\"))\n",
    "    tcount = target - end       \n",
    "    count = end + 1       \n",
    "e_data = pd.DataFrame(movie_dataset)\n",
    "e_data.to_csv('MovieTest.csv')\n",
    "print(\"Extraction Completed\")\n"
   ]
  },
  {
   "cell_type": "code",
   "execution_count": null,
   "metadata": {},
   "outputs": [],
   "source": [
    "cd Movie_Dataset"
   ]
  },
  {
   "cell_type": "code",
   "execution_count": null,
   "metadata": {},
   "outputs": [],
   "source": [
    "#Reading Datasets\n",
    "\n",
    "df_inflation = pd.read_csv('Inflation_Data.csv')\n",
    "df_movies2014 = pd.read_csv('Movies2014.csv')\n",
    "df_movies2015 = pd.read_csv('Movies2015.csv')\n",
    "df_movies2016 = pd.read_csv('Movies2016.csv')\n",
    "df_movies2017 = pd.read_csv('Movies2017.csv')\n",
    "df_movies2018 = pd.read_csv('Movies2018.csv')\n",
    "df_movies2019 = pd.read_csv('Movies2019.csv')\n",
    "df_movies2020 = pd.read_csv('Movies2020.csv')\n",
    "df_movies2021 = pd.read_csv('Movies2021.csv')"
   ]
  },
  {
   "cell_type": "code",
   "execution_count": null,
   "metadata": {},
   "outputs": [],
   "source": [
    "#Merging all the movie datasets of years 2014-2022 into one Merged_Movies Dataset \n",
    "\n",
    "files = ['Movies2014.csv','Movies2015.csv', 'Movies2016.csv',\n",
    "         'Movies2017.csv', 'Movies2018.csv', 'Movies2019.csv', 'Movies2020.csv', 'Movies2021.csv']\n",
    "df_list = []\n",
    "for file in files:\n",
    "    df = pd.read_csv(file)\n",
    "    df_list.append(df)\n",
    "merged_df = pd.concat(df_list)\n",
    "merged_df.to_csv('Merged_Movies.csv', index=False)\n",
    "df_merged_c = pd.read_csv('Merged_Movies.csv')\n",
    "df_merged_c.drop(df_merged_c.filter(regex=\"Unname\"),axis=1, inplace=True)"
   ]
  },
  {
   "cell_type": "code",
   "execution_count": null,
   "metadata": {},
   "outputs": [],
   "source": [
    "#Data Cleaning\n",
    "\n",
    "#Function to clear all the strings present in year column (Cleaning Year Column)\n",
    "\n",
    "def extract_year(x):\n",
    "    match = re.search(r'\\b\\d{4}\\b', str(x))\n",
    "    if match:\n",
    "        return int(match.group().replace('.0','').strip())\n",
    "    return None\n",
    "\n",
    "df_merged_c['Relese_Year'] = df_merged_c['Relese_Year'].astype(str).apply(extract_year)\n",
    "df_merged_c['Relese_Year'] = df_merged_c['Relese_Year'].astype(str).str.replace('nan', '',regex=True).replace('','00')\n",
    "df_merged_c['Relese_Year'] = df_merged_c['Relese_Year'].astype(str).str.replace('.', '',regex=True).str[:-1].astype('int64')\n",
    "df_merged_c = df_merged_c[df_merged_c['Relese_Year'] != 0]\n",
    "df_merged_c.dropna(inplace = True)\n",
    "df_merged_c[['Director', 'Stars']] = df_merged_c['Director_Star'].str.split('|', expand = True)\n",
    "df_merged_c['Director'] = df_merged_c['Director'].str.replace('Director:', '')\n",
    "df_merged_c['Director'] = df_merged_c['Director'].str.replace('Directors:', '')\n",
    "df_merged_c['Director'] = df_merged_c['Director'].str.replace('Stars:', '')\n",
    "df_merged_c['Stars'] = df_merged_c['Stars'].str.replace('Stars:', '')\n",
    "df_merged_c.drop(df_merged_c.filter(regex=\"Director_Star\"),axis=1, inplace=True)\n",
    "df_merged_c['Gross_USA'] = df_merged_c['Gross_USA'].astype('int64')\n",
    "df_merged_c['Meta_Score'] = df_merged_c['Meta_Score'].astype('int64')\n",
    "df_merged_c['Total_Votes'] = df_merged_c['Total_Votes'].astype('int64')"
   ]
  },
  {
   "cell_type": "markdown",
   "metadata": {},
   "source": [
    "### Analysis-1 Trend Analysis on Gross Revenue of Movies Trended from 2014 to 2021"
   ]
  },
  {
   "cell_type": "code",
   "execution_count": null,
   "metadata": {},
   "outputs": [],
   "source": [
    "df_analysis1 = df_merged_c.groupby('Relese_Year').agg({'Gross_USA':['sum']}).reset_index()\n",
    "df_analysis1.columns = ['Relese_Year', 'Gross_Sum']\n",
    "df_analysis1_1 = df_analysis1.sort_values([\"Relese_Year\"], ascending = False)"
   ]
  },
  {
   "cell_type": "code",
   "execution_count": null,
   "metadata": {},
   "outputs": [],
   "source": [
    "plt.figure(figsize = (6,4))\n",
    "p = sns.lineplot(data = df_analysis1_1, x = 'Relese_Year', y = 'Gross_Sum')\n",
    "p.tick_params(labelsize = 8)\n",
    "plt.title('Gross Revenue of Movies Trended from 2014 to 2021', fontsize = 15)\n",
    "plt.xlabel('Year', fontsize = 9)\n",
    "plt.ylabel('Total Gross Revenue', fontsize = 9)\n",
    "plt.savefig(\"1Gross-Year.pdf\", format=\"pdf\", bbox_inches=\"tight\")\n",
    "plt.show()"
   ]
  },
  {
   "cell_type": "markdown",
   "metadata": {},
   "source": [
    "### Analysis 2 Exploring the Relationship Between IMDb Votes and Box Office Revenue"
   ]
  },
  {
   "cell_type": "code",
   "execution_count": null,
   "metadata": {},
   "outputs": [],
   "source": [
    "plt.figure(figsize=(5,5))\n",
    "sns.regplot(data=df_merged_c.sample(frac=1), x='Total_Votes', y='Gross_USA', color = 'blue', line_kws={'color': 'red'}, scatter_kws={'color': 'blue'})\n",
    "\n",
    "p.tick_params(labelsize = 8)\n",
    "plt.title('Correlation Between IMDb Votes and Box Office Revenue', fontsize = 12)\n",
    "plt.xlabel('Number of Votes on IMDb', fontsize = 10)\n",
    "plt.ylabel('Total Gross Revenue of Movies ', fontsize = 10)\n",
    "plt.savefig(\"2Votes-Gross.pdf\", format=\"pdf\", bbox_inches=\"tight\")\n",
    "plt.show()"
   ]
  },
  {
   "cell_type": "markdown",
   "metadata": {},
   "source": [
    "#### Pearson Test "
   ]
  },
  {
   "cell_type": "code",
   "execution_count": null,
   "metadata": {},
   "outputs": [],
   "source": [
    "(r,p) = stats.pearsonr(df_merged_c.Total_Votes, df_merged_c.Gross_USA)\n",
    "print('r =', r, 'p =', p)"
   ]
  },
  {
   "cell_type": "markdown",
   "metadata": {},
   "source": [
    "### Analysis 3 Examining the Relationship Between Gross Revenue and Ratings"
   ]
  },
  {
   "cell_type": "code",
   "execution_count": null,
   "metadata": {},
   "outputs": [],
   "source": [
    "expanded_list=[]\n",
    "for row in df_merged_c.itertuples():\n",
    "    genres=row.Movie_Genre.split(',')\n",
    "    for genre in genres:\n",
    "        expanded_list.append([row.Movie_Name, row.Relese_Year, row.Rating_Score, row.Meta_Score, row.Total_Votes, row.Gross_USA,genre.strip(),\n",
    "       row.Director, row.Stars])  \n",
    "df_inflation.columns = ['Relese_Year','amount', 'inflation_rate']\n",
    "factor=df_inflation[df_inflation.Relese_Year==2023]['amount']\n",
    "df_inflation['Relese_Year']=df_inflation['Relese_Year'].astype(float)\n",
    "df_genres_expanded = pd.DataFrame(expanded_list, columns = ['Movie_Name', 'Relese_Year', 'Rating_Score', 'Meta_Score', 'Total_Votes', 'Gross_USA', 'Movie_Genre','Director', 'Stars'])\n",
    "df_genres_inflated_expanded = pd.merge(df_genres_expanded, df_inflation, on = 'Relese_Year')\n",
    "df_genres_expanded['Gross_USA']=df_genres_expanded['Gross_USA'].astype(float)*float(factor)/(df_genres_inflated_expanded.amount).astype(float)\n"
   ]
  },
  {
   "cell_type": "code",
   "execution_count": null,
   "metadata": {},
   "outputs": [],
   "source": [
    "gross_ratings_data = df_genres_expanded.groupby('Rating_Score').agg({'Gross_USA': 'mean'}).reset_index()\n",
    "sns.regplot(data=gross_ratings_data.sample(frac=1), x='Rating_Score', y='Gross_USA', scatter_kws={'s': 3}, line_kws={'color': 'red'})\n",
    "plt.title('Correlation Between Ratings and Box Office Revenue', fontsize = 12)\n",
    "plt.xlabel('Ratings', fontsize = 10)\n",
    "plt.ylabel('Total Gross Revenue', fontsize = 10)\n",
    "plt.savefig(\"4Gross-Rating.pdf\", format=\"pdf\", bbox_inches=\"tight\")\n",
    "plt.show()"
   ]
  },
  {
   "cell_type": "code",
   "execution_count": null,
   "metadata": {},
   "outputs": [],
   "source": [
    "(r,p) = stats.pearsonr(gross_ratings_data.Rating_Score, gross_ratings_data.Gross_USA)\n",
    "print('r =', r, 'p =', p)"
   ]
  },
  {
   "cell_type": "markdown",
   "metadata": {},
   "source": [
    "### Analysis 4 Proportion of Movies by Genre: A Pie Chart"
   ]
  },
  {
   "cell_type": "code",
   "execution_count": null,
   "metadata": {},
   "outputs": [],
   "source": [
    "expanded_list=[]\n",
    "for row in df_merged_c.itertuples():\n",
    "    genres=row.Movie_Genre.split(',')\n",
    "    for genre in genres:\n",
    "        expanded_list.append([row.Movie_Name, row.Relese_Year, row.Rating_Score, row.Meta_Score, row.Total_Votes, row.Gross_USA,genre.strip(),\n",
    "       row.Director, row.Stars])    \n",
    "df_genres_expanded = pd.DataFrame(expanded_list, columns = ['Movie_Name', 'Relese_Year', 'Rating_Score', 'Meta_Score', 'Total_Votes', 'Gross_USA', 'Movie_Genre','Director', 'Stars'])    \n",
    "df_inflation.columns = ['Relese_Year','amount', 'inflation_rate']\n",
    "factor=df_inflation[df_inflation.Relese_Year==2023]['amount']\n",
    "df_inflation['Relese_Year']=df_inflation['Relese_Year'].astype(float)\n",
    "df_genres_expanded = pd.DataFrame(expanded_list, columns = ['Movie_Name', 'Relese_Year', 'Rating_Score', 'Meta_Score', 'Total_Votes', 'Gross_USA', 'Movie_Genre','Director', 'Stars'])\n",
    "df_genres_inflated_expanded = pd.merge(df_genres_expanded, df_inflation, on = 'Relese_Year')\n",
    "df_genres_expanded['Gross_USA']=df_genres_expanded['Gross_USA'].astype(float)*float(factor)/(df_genres_inflated_expanded.amount).astype(float)\n",
    "grp_mov_collection = df_genres_expanded.groupby(['Movie_Genre']).agg({'Gross_USA': 'mean','Total_Votes':'mean','Meta_Score':'mean','Rating_Score':'mean'}).reset_index()"
   ]
  },
  {
   "cell_type": "code",
   "execution_count": null,
   "metadata": {},
   "outputs": [],
   "source": [
    "plt.figure(figsize=(7,7))\n",
    "labels=grp_mov_collection['Movie_Genre'].unique()\n",
    "plt.pie(data=grp_mov_collection, x='Gross_USA',autopct='%.0f%%' ,shadow=False)\n",
    "plt.title('Proportion of Movies by Genre')\n",
    "plt.legend(labels=labels)\n",
    "plt.savefig(\"3genre-pie.pdf\", format=\"pdf\", bbox_inches=\"tight\")\n",
    "plt.show()"
   ]
  },
  {
   "cell_type": "markdown",
   "metadata": {},
   "source": [
    "### Analysis 5 Comparing Director and Movie Ratings: A T-Test Analysis"
   ]
  },
  {
   "cell_type": "code",
   "execution_count": null,
   "metadata": {},
   "outputs": [],
   "source": [
    "expanded_list1=[]\n",
    "for row in df_merged_c.itertuples():\n",
    "    directors=row.Director.split(',')\n",
    "    for director in directors:\n",
    "        expanded_list1.append([row.Movie_Name, row.Relese_Year, row.Rating_Score, row.Meta_Score, row.Movie_Genre, row.Total_Votes, row.Gross_USA, director.strip(), row.Stars])  \n",
    "df_dir_expanded = pd.DataFrame(expanded_list1, columns = ['Movie_Name', 'Relese_Year', 'Rating_Score', 'Meta_Score', 'Total_Votes', 'Gross_USA', 'Movie_Genre','Director', 'Stars'])\n",
    "df_5 = df_dir_expanded\n",
    "df_5_g = df_5.groupby(['Director', 'Movie_Name']).agg({'Rating_Score':['mean']}).reset_index()\n",
    "df_5_g.columns = ['Director','Movie_Name', 'Rating_Score' ]\n",
    "df_5_g = df_5_g.dropna().sort_values('Rating_Score', ascending = False).replace('nan', '')"
   ]
  },
  {
   "cell_type": "code",
   "execution_count": null,
   "metadata": {},
   "outputs": [],
   "source": [
    "sns.displot(data=df_5_g[df_5_g.Director.isin(['Tyler Perry', 'Christopher Nolan'])],\n",
    "            x='Rating_Score', hue='Director', kind='kde',common_norm=False)\n",
    "plt.savefig(\"5Director-Rating.pdf\", format=\"pdf\", bbox_inches=\"tight\")\n",
    "plt.show()"
   ]
  },
  {
   "cell_type": "code",
   "execution_count": null,
   "metadata": {},
   "outputs": [],
   "source": [
    "display(f'Tyler Perry mean: {df_5_g[df_5_g.Director==\"Tyler Perry\"].Rating_Score.mean()}')\n",
    "display(f'Christopher Nolan mean: {df_5_g[df_5_g.Director==\"Christopher Nolan\"].Rating_Score.mean()}')\n",
    "display(f'Tyler Perry sd: {df_5_g[df_5_g.Director==\"Tyler Perry\"].Rating_Score.std()}')\n",
    "display(f'Christopher Nolan sd: {df_5_g[df_5_g.Director==\"Christopher Nolan\"].Rating_Score.std()}')\n",
    "display(stats.ttest_ind(df_5_g[df_5_g.Director == 'Tyler Perry'].Rating_Score, df_5_g[df_5_g.Director == 'Christopher Nolan'].Rating_Score))"
   ]
  },
  {
   "cell_type": "code",
   "execution_count": null,
   "metadata": {},
   "outputs": [],
   "source": []
  },
  {
   "cell_type": "code",
   "execution_count": null,
   "metadata": {},
   "outputs": [],
   "source": []
  }
 ],
 "metadata": {
  "colab": {
   "provenance": []
  },
  "kernelspec": {
   "display_name": "Python 3",
   "language": "python",
   "name": "python3"
  },
  "language_info": {
   "codemirror_mode": {
    "name": "ipython",
    "version": 3
   },
   "file_extension": ".py",
   "mimetype": "text/x-python",
   "name": "python",
   "nbconvert_exporter": "python",
   "pygments_lexer": "ipython3",
   "version": "3.8.5"
  }
 },
 "nbformat": 4,
 "nbformat_minor": 1
}
